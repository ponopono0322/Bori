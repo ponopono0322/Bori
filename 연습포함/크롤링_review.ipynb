{
 "cells": [
  {
   "cell_type": "code",
   "execution_count": 20,
   "metadata": {},
   "outputs": [],
   "source": [
    "import requests\n",
    "import lxml.html\n",
    "import re\n",
    "import tqdm\n",
    "from selenium import webdriver\n",
    "from selenium.webdriver import ActionChains\n",
    "import pandas as pd\n",
    "import time"
   ]
  },
  {
   "cell_type": "code",
   "execution_count": 21,
   "metadata": {},
   "outputs": [],
   "source": [
    "url_csv = pd.read_csv(\"식당URL.csv\")"
   ]
  },
  {
   "cell_type": "code",
   "execution_count": 22,
   "metadata": {},
   "outputs": [],
   "source": [
    "driver = webdriver.Chrome('/Users/hanuel/Desktop/chromedriver')\n",
    "review_list = []"
   ]
  },
  {
   "cell_type": "code",
   "execution_count": 23,
   "metadata": {
    "scrolled": false
   },
   "outputs": [
    {
     "name": "stderr",
     "output_type": "stream",
     "text": [
      "1it [01:38, 98.26s/it]"
     ]
    },
    {
     "name": "stdout",
     "output_type": "stream",
     "text": [
      "70\n"
     ]
    },
    {
     "name": "stderr",
     "output_type": "stream",
     "text": [
      "2it [03:25, 103.30s/it]"
     ]
    },
    {
     "name": "stdout",
     "output_type": "stream",
     "text": [
      "160\n"
     ]
    },
    {
     "name": "stderr",
     "output_type": "stream",
     "text": [
      "3it [05:11, 104.69s/it]"
     ]
    },
    {
     "name": "stdout",
     "output_type": "stream",
     "text": [
      "250\n"
     ]
    },
    {
     "name": "stderr",
     "output_type": "stream",
     "text": [
      "4it [07:05, 108.46s/it]"
     ]
    },
    {
     "name": "stdout",
     "output_type": "stream",
     "text": [
      "340\n"
     ]
    },
    {
     "name": "stderr",
     "output_type": "stream",
     "text": [
      "5it [08:30, 99.79s/it] "
     ]
    },
    {
     "name": "stdout",
     "output_type": "stream",
     "text": [
      "404\n"
     ]
    },
    {
     "name": "stderr",
     "output_type": "stream",
     "text": [
      "6it [09:57, 95.54s/it]"
     ]
    },
    {
     "name": "stdout",
     "output_type": "stream",
     "text": [
      "473\n"
     ]
    },
    {
     "name": "stderr",
     "output_type": "stream",
     "text": [
      "7it [10:57, 83.89s/it]"
     ]
    },
    {
     "name": "stdout",
     "output_type": "stream",
     "text": [
      "521\n"
     ]
    },
    {
     "name": "stderr",
     "output_type": "stream",
     "text": [
      "8it [12:21, 84.01s/it]"
     ]
    },
    {
     "name": "stdout",
     "output_type": "stream",
     "text": [
      "591\n"
     ]
    },
    {
     "name": "stderr",
     "output_type": "stream",
     "text": [
      "9it [13:47, 84.59s/it]"
     ]
    },
    {
     "name": "stdout",
     "output_type": "stream",
     "text": [
      "661\n"
     ]
    },
    {
     "name": "stderr",
     "output_type": "stream",
     "text": [
      "10it [15:10, 91.02s/it]\n"
     ]
    }
   ],
   "source": [
    "for url, city in tqdm.tqdm(zip(url_csv['url'][:1694], url_csv['도시'][:10])):\n",
    "    try:\n",
    "        driver.get(url)\n",
    "        driver.implicitly_wait(10)\n",
    "\n",
    "        # 도시\n",
    "        address = city\n",
    "\n",
    "        # 식당이름\n",
    "        tmp = driver.find_element_by_css_selector(\"div._1hkogt_o > h1\")\n",
    "        title = tmp.text\n",
    "\n",
    "        try:\n",
    "            # more element 를 찾음\n",
    "            more = driver.find_element_by_xpath('//*[@id=\"taplc_location_reviews_list_resp_rr_resp_0\"]/div/div[13]/div/div/a[2]')\n",
    "\n",
    "            # more 까지 스크롤\n",
    "            action = ActionChains(driver)\n",
    "            action.move_to_element(more).perform()\n",
    "            driver.implicitly_wait(10)\n",
    "\n",
    "            total_pages = len(driver.find_elements_by_css_selector('div.pageNumbers > a'))\n",
    "\n",
    "            driver.implicitly_wait(10)\n",
    "        except:\n",
    "            total_pages = 0\n",
    "\n",
    "        try:\n",
    "            tmp = driver.find_elements_by_css_selector(\"span.taLnk.ulBlueLinks\")\n",
    "            if len(tmp) >= 1:\n",
    "                action = ActionChains(driver)\n",
    "                action.move_to_element(tmp[0]).perform()\n",
    "                driver.implicitly_wait(10)\n",
    "                time.sleep(1)\n",
    "                tmp = driver.find_elements_by_css_selector(\"span.taLnk.ulBlueLinks\")\n",
    "                tmp[0].click()\n",
    "                driver.implicitly_wait(10)\n",
    "                time.sleep(1)\n",
    "        except:\n",
    "            print(\"there is no 더보기\")\n",
    "\n",
    "        reviews = driver.find_element_by_css_selector(\"#taplc_location_reviews_list_resp_rr_resp_0\")\n",
    "        for review in reviews.find_elements_by_css_selector(\".review-container\"):\n",
    "            try:\n",
    "                review_date = review.find_element_by_css_selector(\".ratingDate\").text.split(\"에\")[0]\n",
    "                reviewer_id = review.find_element_by_css_selector(\"div.member_info\").text.split(\"\\n\")[0]\n",
    "                review_rate = int(review.find_element_by_css_selector(\"div.ui_column.is-9 > span\").get_attribute(\"class\")[-2])\n",
    "\n",
    "                review_text = review.find_element_by_css_selector(\"div.entry > p.partial_entry\").text\n",
    "\n",
    "                dictionary = {}\n",
    "                dictionary['region'] = address\n",
    "                dictionary['title'] = title\n",
    "                dictionary['review_date'] = review_date\n",
    "                dictionary['review_id'] = reviewer_id\n",
    "                dictionary['review_rate'] = review_rate\n",
    "                dictionary['review_text'] = review_text\n",
    "                review_list.append(dictionary)\n",
    "            except:\n",
    "                continue\n",
    "\n",
    "\n",
    "        for i in range(total_pages - 1):\n",
    "            next_ = driver.find_elements_by_css_selector('div.unified.ui_pagination a')[1]\n",
    "            action = ActionChains(driver)\n",
    "            action.move_to_element(next_).perform()\n",
    "            next_.click()\n",
    "\n",
    "            try:\n",
    "                tmp = driver.find_elements_by_css_selector(\"span.taLnk.ulBlueLinks\")\n",
    "                if len(tmp) >= 1:\n",
    "                    action = ActionChains(driver)\n",
    "                    action.move_to_element(tmp[0]).perform()\n",
    "                    driver.implicitly_wait(10)\n",
    "                    time.sleep(1)\n",
    "                    tmp = driver.find_elements_by_css_selector(\"span.taLnk.ulBlueLinks\")\n",
    "                    tmp[0].click()\n",
    "                    driver.implicitly_wait(10)\n",
    "                    time.sleep(1)\n",
    "            except:\n",
    "                print(\"there is no 더보기\")\n",
    "\n",
    "            reviews = driver.find_element_by_css_selector(\"#taplc_location_reviews_list_resp_rr_resp_0\")\n",
    "            for review in reviews.find_elements_by_css_selector(\".review-container\"):\n",
    "                try:\n",
    "                    review_date = review.find_element_by_css_selector(\".ratingDate\").text.split(\"에\")[0]\n",
    "                    reviewer_id = review.find_element_by_css_selector(\"div.member_info\").text.split(\"\\n\")[0]\n",
    "                    review_rate = int(review.find_element_by_css_selector(\"div.ui_column.is-9 > span\").get_attribute(\"class\")[-2])\n",
    "\n",
    "                    review_text = review.find_element_by_css_selector(\"div.entry > p.partial_entry\").text\n",
    "\n",
    "                    dictionary = {}\n",
    "                    dictionary['region'] = address\n",
    "                    dictionary['title'] = title\n",
    "                    dictionary['review_date'] = review_date\n",
    "                    dictionary['review_id'] = reviewer_id\n",
    "                    dictionary['review_rate'] = review_rate\n",
    "                    dictionary['review_text'] = review_text\n",
    "                    review_list.append(dictionary)\n",
    "                except:\n",
    "                    continue\n",
    "        print(len(review_list))\n",
    "    except:\n",
    "        continue"
   ]
  },
  {
   "cell_type": "code",
   "execution_count": 24,
   "metadata": {},
   "outputs": [],
   "source": [
    "ta_reviews_2 = pd.DataFrame(review_list)\n",
    "ta_reviews_2.to_csv(\"ta_reviews2.csv\", index = False)"
   ]
  },
  {
   "cell_type": "code",
   "execution_count": null,
   "metadata": {},
   "outputs": [],
   "source": []
  },
  {
   "cell_type": "code",
   "execution_count": null,
   "metadata": {},
   "outputs": [],
   "source": []
  }
 ],
 "metadata": {
  "kernelspec": {
   "display_name": "Python 3",
   "language": "python",
   "name": "python3"
  },
  "language_info": {
   "codemirror_mode": {
    "name": "ipython",
    "version": 3
   },
   "file_extension": ".py",
   "mimetype": "text/x-python",
   "name": "python",
   "nbconvert_exporter": "python",
   "pygments_lexer": "ipython3",
   "version": "3.8.10"
  }
 },
 "nbformat": 4,
 "nbformat_minor": 4
}
